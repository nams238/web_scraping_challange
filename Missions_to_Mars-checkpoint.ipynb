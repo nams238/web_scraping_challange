{
 "cells": [
  {
   "cell_type": "code",
   "execution_count": 1,
   "id": "546cca97",
   "metadata": {},
   "outputs": [],
   "source": [
    "# import Dependencies\n",
    "import pandas as pd\n",
    "from splinter import Browser\n",
    "import os\n",
    "from bs4 import BeautifulSoup as bs\n",
    "import requests\n",
    "from selenium import webdriver\n",
    "from webdriver_manager.chrome import ChromeDriverManager\n",
    "import urllib.request\n",
    "import urllib3"
   ]
  },
  {
   "cell_type": "code",
   "execution_count": 2,
   "id": "81d959be",
   "metadata": {},
   "outputs": [
    {
     "name": "stderr",
     "output_type": "stream",
     "text": [
      "[WDM] - Downloading: 100%|█████████████████| 8.15M/8.15M [00:00<00:00, 30.2MB/s]\n"
     ]
    }
   ],
   "source": [
    "executable_path = {'executable_path': ChromeDriverManager().install()}\n",
    "browser = Browser('chrome', **executable_path, headless=True)"
   ]
  },
  {
   "cell_type": "markdown",
   "id": "737d92e1",
   "metadata": {},
   "source": [
    "# NASA Mars News"
   ]
  },
  {
   "cell_type": "code",
   "execution_count": 3,
   "id": "46d707f7",
   "metadata": {},
   "outputs": [],
   "source": [
    "# Creating url path\n",
    "url = 'https://redplanetscience.com/'"
   ]
  },
  {
   "cell_type": "code",
   "execution_count": 4,
   "id": "5b7d5438",
   "metadata": {},
   "outputs": [],
   "source": [
    "# Sending HTTP request to the server\n",
    "response = requests.get(url)\n",
    "browser.visit(url)"
   ]
  },
  {
   "cell_type": "code",
   "execution_count": 5,
   "id": "25379091",
   "metadata": {},
   "outputs": [
    {
     "data": {
      "text/plain": [
       "bs4.BeautifulSoup"
      ]
     },
     "execution_count": 5,
     "metadata": {},
     "output_type": "execute_result"
    }
   ],
   "source": [
    "# Creating Beautiful soup object\n",
    "html = browser.html\n",
    "soup = bs(html, 'html.parser')\n",
    "type(soup)"
   ]
  },
  {
   "cell_type": "code",
   "execution_count": 6,
   "id": "6e687135",
   "metadata": {},
   "outputs": [
    {
     "name": "stdout",
     "output_type": "stream",
     "text": [
      "\n",
      "September 20, 2022\n",
      "Global Storms on Mars Launch Dust Towers Into the Sky\n",
      "A Mars Dust Tower Stands Out Dust storms are common on Mars. But every decade or so, something unpredictable happens: a series of runaway storms break out, covering the entire planet in a dusty haze.\n",
      "\n"
     ]
    }
   ],
   "source": [
    "# Printing the entire article\n",
    "article = soup.find(\"div\", class_=\"list_text\").text\n",
    "print(article)"
   ]
  },
  {
   "cell_type": "code",
   "execution_count": 7,
   "id": "c0292e1b",
   "metadata": {},
   "outputs": [
    {
     "name": "stdout",
     "output_type": "stream",
     "text": [
      "The news title is \"Global Storms on Mars Launch Dust Towers Into the Sky\"\n"
     ]
    }
   ],
   "source": [
    "# Printing the News Title\n",
    "\n",
    "news_title = soup.find('div', class_= \"content_title\").text\n",
    "\n",
    "print(f'The news title is \"{news_title}\"')"
   ]
  },
  {
   "cell_type": "code",
   "execution_count": 8,
   "id": "1c7af0c7",
   "metadata": {},
   "outputs": [
    {
     "name": "stdout",
     "output_type": "stream",
     "text": [
      "The News paragraph ---- : A Mars Dust Tower Stands Out Dust storms are common on Mars. But every decade or so, something unpredictable happens: a series of runaway storms break out, covering the entire planet in a dusty haze.\n"
     ]
    }
   ],
   "source": [
    "# Printing the News Paragraph\n",
    "\n",
    "news_p = soup.find(\"div\", class_=\"article_teaser_body\").text\n",
    "\n",
    "print(f'The News paragraph ---- : {news_p}')"
   ]
  },
  {
   "cell_type": "markdown",
   "id": "c5c47f70",
   "metadata": {},
   "source": [
    "# JPL Mars Space Images—Featured Image"
   ]
  },
  {
   "cell_type": "code",
   "execution_count": 9,
   "id": "12e5fc3e",
   "metadata": {},
   "outputs": [],
   "source": [
    "# Setting featured image url\n",
    "link = \"https://spaceimages-mars.com\""
   ]
  },
  {
   "cell_type": "code",
   "execution_count": 10,
   "id": "10918f23",
   "metadata": {},
   "outputs": [],
   "source": [
    "# Sending http request to the server\n",
    "response = requests.get(link)\n",
    "browser.visit(link)"
   ]
  },
  {
   "cell_type": "code",
   "execution_count": 11,
   "id": "7e7dcfa6",
   "metadata": {},
   "outputs": [
    {
     "data": {
      "text/plain": [
       "bs4.BeautifulSoup"
      ]
     },
     "execution_count": 11,
     "metadata": {},
     "output_type": "execute_result"
    }
   ],
   "source": [
    "# Creating Beautiful soup object\n",
    "html = browser.html\n",
    "soup = bs(html, 'html.parser')\n",
    "type(soup)"
   ]
  },
  {
   "cell_type": "code",
   "execution_count": 12,
   "id": "f78d18ff",
   "metadata": {},
   "outputs": [],
   "source": [
    "# Printing formatted version of the soup\n",
    "#print(soup.prettify())"
   ]
  },
  {
   "cell_type": "code",
   "execution_count": 13,
   "id": "8fb3c7ff",
   "metadata": {},
   "outputs": [],
   "source": [
    "# Printing featured image\n",
    "image = soup.find(\"img\", class_=\"headerimage\")[\"src\"]\n",
    "img_url = \"link\"+image\n",
    "featured_image_url = img_url"
   ]
  },
  {
   "cell_type": "markdown",
   "id": "1ad461ba",
   "metadata": {},
   "source": [
    "# Facts About Mars"
   ]
  },
  {
   "cell_type": "code",
   "execution_count": 14,
   "id": "d4c6bdf9",
   "metadata": {},
   "outputs": [],
   "source": [
    "# Setting up url\n",
    "mars_fact_url = \"https://galaxyfacts-mars.com/\""
   ]
  },
  {
   "cell_type": "code",
   "execution_count": 15,
   "id": "3eafb2bd",
   "metadata": {},
   "outputs": [],
   "source": [
    "# Visiting url and sending http requests to the server\n",
    "browser.visit(mars_fact_url)\n",
    "response = requests.get(mars_fact_url)"
   ]
  },
  {
   "cell_type": "code",
   "execution_count": 16,
   "id": "5267f0d6",
   "metadata": {},
   "outputs": [
    {
     "data": {
      "text/plain": [
       "bs4.BeautifulSoup"
      ]
     },
     "execution_count": 16,
     "metadata": {},
     "output_type": "execute_result"
    }
   ],
   "source": [
    "# Creating Beautiful soup object\n",
    "html = browser.html\n",
    "soup = bs(html, 'html.parser')\n",
    "type(soup)"
   ]
  },
  {
   "cell_type": "code",
   "execution_count": 17,
   "id": "62c0950c",
   "metadata": {},
   "outputs": [],
   "source": [
    "# To print formatted version of the soup\n",
    "#print(soup.prettify())"
   ]
  },
  {
   "cell_type": "code",
   "execution_count": 18,
   "id": "f6b199e1",
   "metadata": {},
   "outputs": [
    {
     "data": {
      "text/html": [
       "<div>\n",
       "<style scoped>\n",
       "    .dataframe tbody tr th:only-of-type {\n",
       "        vertical-align: middle;\n",
       "    }\n",
       "\n",
       "    .dataframe tbody tr th {\n",
       "        vertical-align: top;\n",
       "    }\n",
       "\n",
       "    .dataframe thead th {\n",
       "        text-align: right;\n",
       "    }\n",
       "</style>\n",
       "<table border=\"1\" class=\"dataframe\">\n",
       "  <thead>\n",
       "    <tr style=\"text-align: right;\">\n",
       "      <th></th>\n",
       "      <th>Mars</th>\n",
       "      <th>Earth</th>\n",
       "    </tr>\n",
       "    <tr>\n",
       "      <th>Mars - Earth Comparison</th>\n",
       "      <th></th>\n",
       "      <th></th>\n",
       "    </tr>\n",
       "  </thead>\n",
       "  <tbody>\n",
       "    <tr>\n",
       "      <th>Diameter:</th>\n",
       "      <td>6,779 km</td>\n",
       "      <td>12,742 km</td>\n",
       "    </tr>\n",
       "    <tr>\n",
       "      <th>Mass:</th>\n",
       "      <td>6.39 × 10^23 kg</td>\n",
       "      <td>5.97 × 10^24 kg</td>\n",
       "    </tr>\n",
       "    <tr>\n",
       "      <th>Moons:</th>\n",
       "      <td>2</td>\n",
       "      <td>1</td>\n",
       "    </tr>\n",
       "    <tr>\n",
       "      <th>Distance from Sun:</th>\n",
       "      <td>227,943,824 km</td>\n",
       "      <td>149,598,262 km</td>\n",
       "    </tr>\n",
       "    <tr>\n",
       "      <th>Length of Year:</th>\n",
       "      <td>687 Earth days</td>\n",
       "      <td>365.24 days</td>\n",
       "    </tr>\n",
       "    <tr>\n",
       "      <th>Temperature:</th>\n",
       "      <td>-87 to -5 °C</td>\n",
       "      <td>-88 to 58°C</td>\n",
       "    </tr>\n",
       "  </tbody>\n",
       "</table>\n",
       "</div>"
      ],
      "text/plain": [
       "                                    Mars            Earth\n",
       "Mars - Earth Comparison                                  \n",
       "Diameter:                       6,779 km        12,742 km\n",
       "Mass:                    6.39 × 10^23 kg  5.97 × 10^24 kg\n",
       "Moons:                                 2                1\n",
       "Distance from Sun:        227,943,824 km   149,598,262 km\n",
       "Length of Year:           687 Earth days      365.24 days\n",
       "Temperature:                -87 to -5 °C      -88 to 58°C"
      ]
     },
     "execution_count": 18,
     "metadata": {},
     "output_type": "execute_result"
    }
   ],
   "source": [
    "# Use Pandas to scrape the table containing facts about the planet including Diameter, Mass, etc.\n",
    "mars_data = pd.read_html(\"https://space-facts.com/mars/\")[1]\n",
    "\n",
    "df = mars_data\n",
    "df.set_index('Mars - Earth Comparison', inplace=True)\n",
    "df"
   ]
  },
  {
   "cell_type": "code",
   "execution_count": 19,
   "id": "26e36b24",
   "metadata": {},
   "outputs": [],
   "source": [
    "# Using Pandas to convert the data to a HTML table string.\n",
    "html = df.to_html()"
   ]
  },
  {
   "cell_type": "markdown",
   "id": "8bb69f3d",
   "metadata": {},
   "source": [
    "# Hemispheres(Mars)"
   ]
  },
  {
   "cell_type": "code",
   "execution_count": 20,
   "id": "01356638",
   "metadata": {},
   "outputs": [],
   "source": [
    "# Setting up url\n",
    "base_url = 'https://marshemispheres.com/'"
   ]
  },
  {
   "cell_type": "code",
   "execution_count": 21,
   "id": "94155964",
   "metadata": {},
   "outputs": [],
   "source": [
    "# Sending http request to the server\n",
    "response = requests.get(base_url)\n",
    "browser.visit(base_url)"
   ]
  },
  {
   "cell_type": "code",
   "execution_count": 22,
   "id": "8fdd6400",
   "metadata": {},
   "outputs": [
    {
     "data": {
      "text/plain": [
       "bs4.BeautifulSoup"
      ]
     },
     "execution_count": 22,
     "metadata": {},
     "output_type": "execute_result"
    }
   ],
   "source": [
    "# Creating Beautiful soup object\n",
    "html = browser.html\n",
    "soup = bs(html, 'html.parser')\n",
    "type(soup)"
   ]
  },
  {
   "cell_type": "code",
   "execution_count": 23,
   "id": "9c04bf00",
   "metadata": {},
   "outputs": [],
   "source": [
    "# To print formatted version of the soup\n",
    "#print(soup.prettify())"
   ]
  },
  {
   "cell_type": "code",
   "execution_count": 24,
   "id": "f6ef149b",
   "metadata": {},
   "outputs": [],
   "source": [
    "# Saving both the image url string for the full resolution hemisphere image,and the Hemisphere \n",
    "# title containing the hemisphere name\n",
    "\n",
    "hemisphere_img_urls = []\n",
    "\n",
    "contents = soup.find_all(\"div\", class_=\"item\")\n",
    "\n",
    "for content in contents:\n",
    "    hemisphere = {}\n",
    "\n",
    "    title = content.find(\"h3\").text\n",
    "    link = content.find(\"a\", class_=\"itemLink\")[\"href\"]\n",
    "    hemisphere = base_url + link\n",
    "    browser.visit(hemisphere)\n",
    "    hemispherehtml = browser.html\n",
    "\n",
    "    soup2 = bs(hemispherehtml, 'html.parser')\n",
    "    image = soup2.find(\"img\", class_= \"wide-image\")[\"src\"]\n",
    "    img_url = base_url + image\n",
    "    hemisphere = {}\n",
    "\n",
    "    hemisphere_img_urls.append({\"title\":title,\"img_url\":img_url})"
   ]
  },
  {
   "cell_type": "code",
   "execution_count": 25,
   "id": "5118be7c",
   "metadata": {},
   "outputs": [
    {
     "data": {
      "text/plain": [
       "[{'title': 'Cerberus Hemisphere Enhanced',\n",
       "  'img_url': 'https://marshemispheres.com/images/f5e372a36edfa389625da6d0cc25d905_cerberus_enhanced.tif_full.jpg'},\n",
       " {'title': 'Schiaparelli Hemisphere Enhanced',\n",
       "  'img_url': 'https://marshemispheres.com/images/3778f7b43bbbc89d6e3cfabb3613ba93_schiaparelli_enhanced.tif_full.jpg'},\n",
       " {'title': 'Syrtis Major Hemisphere Enhanced',\n",
       "  'img_url': 'https://marshemispheres.com/images/555e6403a6ddd7ba16ddb0e471cadcf7_syrtis_major_enhanced.tif_full.jpg'},\n",
       " {'title': 'Valles Marineris Hemisphere Enhanced',\n",
       "  'img_url': 'https://marshemispheres.com/images/b3c7c6c9138f57b4756be9b9c43e3a48_valles_marineris_enhanced.tif_full.jpg'}]"
      ]
     },
     "execution_count": 25,
     "metadata": {},
     "output_type": "execute_result"
    }
   ],
   "source": [
    "# Use a Python dictionary to store the data using the keys `img_url` and `title`\n",
    "hemisphere_img_urls"
   ]
  },
  {
   "cell_type": "code",
   "execution_count": null,
   "id": "c4795025",
   "metadata": {},
   "outputs": [],
   "source": []
  }
 ],
 "metadata": {
  "kernelspec": {
   "display_name": "Python 3 (ipykernel)",
   "language": "python",
   "name": "python3"
  },
  "language_info": {
   "codemirror_mode": {
    "name": "ipython",
    "version": 3
   },
   "file_extension": ".py",
   "mimetype": "text/x-python",
   "name": "python",
   "nbconvert_exporter": "python",
   "pygments_lexer": "ipython3",
   "version": "3.9.12"
  }
 },
 "nbformat": 4,
 "nbformat_minor": 5
}
