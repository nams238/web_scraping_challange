{
 "cells": [
  {
   "cell_type": "code",
   "execution_count": 1,
   "id": "65c020f9",
   "metadata": {},
   "outputs": [],
   "source": [
    "# import Dependencies\n",
    "import pandas as pd\n",
    "from splinter import Browser\n",
    "import os\n",
    "from bs4 import BeautifulSoup as bs\n",
    "import requests\n",
    "from selenium import webdriver\n",
    "from webdriver_manager.chrome import ChromeDriverManager\n",
    "import urllib.request\n",
    "import urllib3"
   ]
  },
  {
   "cell_type": "code",
   "execution_count": 2,
   "id": "7e876c8f",
   "metadata": {},
   "outputs": [
    {
     "name": "stderr",
     "output_type": "stream",
     "text": [
      "[WDM] - Downloading: 100%|█████████████████| 8.15M/8.15M [00:00<00:00, 30.2MB/s]\n"
     ]
    }
   ],
   "source": [
    "executable_path = {'executable_path': ChromeDriverManager().install()}\n",
    "browser = Browser('chrome', **executable_path, headless=True)"
   ]
  },
  {
   "cell_type": "markdown",
   "id": "363e1d66",
   "metadata": {},
   "source": [
    "# NASA Mars News"
   ]
  },
  {
   "cell_type": "code",
   "execution_count": 3,
   "id": "113440c5",
   "metadata": {},
   "outputs": [],
   "source": [
    "# Creating url path\n",
    "url = 'https://redplanetscience.com/'"
   ]
  },
  {
   "cell_type": "code",
   "execution_count": 4,
   "id": "513c3fe3",
   "metadata": {},
   "outputs": [],
   "source": [
    "# Sending HTTP request to the server\n",
    "response = requests.get(url)\n",
    "browser.visit(url)"
   ]
  },
  {
   "cell_type": "code",
   "execution_count": 5,
   "id": "392b1fb4",
   "metadata": {},
   "outputs": [
    {
     "data": {
      "text/plain": [
       "bs4.BeautifulSoup"
      ]
     },
     "execution_count": 5,
     "metadata": {},
     "output_type": "execute_result"
    }
   ],
   "source": [
    "# Creating Beautiful soup object\n",
    "html = browser.html\n",
    "soup = bs(html, 'html.parser')\n",
    "type(soup)"
   ]
  },
  {
   "cell_type": "code",
   "execution_count": 6,
   "id": "3fac4d9c",
   "metadata": {},
   "outputs": [
    {
     "name": "stdout",
     "output_type": "stream",
     "text": [
      "\n",
      "September 20, 2022\n",
      "Global Storms on Mars Launch Dust Towers Into the Sky\n",
      "A Mars Dust Tower Stands Out Dust storms are common on Mars. But every decade or so, something unpredictable happens: a series of runaway storms break out, covering the entire planet in a dusty haze.\n",
      "\n"
     ]
    }
   ],
   "source": [
    "# Printing the entire article\n",
    "article = soup.find(\"div\", class_=\"list_text\").text\n",
    "print(article)"
   ]
  },
  {
   "cell_type": "code",
   "execution_count": 7,
   "id": "26c3e094",
   "metadata": {},
   "outputs": [
    {
     "name": "stdout",
     "output_type": "stream",
     "text": [
      "The news title is \"Global Storms on Mars Launch Dust Towers Into the Sky\"\n"
     ]
    }
   ],
   "source": [
    "# Printing the News Title\n",
    "\n",
    "news_title = soup.find('div', class_= \"content_title\").text\n",
    "\n",
    "print(f'The news title is \"{news_title}\"')"
   ]
  },
  {
   "cell_type": "code",
   "execution_count": 8,
   "id": "6d08f027",
   "metadata": {},
   "outputs": [
    {
     "name": "stdout",
     "output_type": "stream",
     "text": [
      "The News paragraph ---- : A Mars Dust Tower Stands Out Dust storms are common on Mars. But every decade or so, something unpredictable happens: a series of runaway storms break out, covering the entire planet in a dusty haze.\n"
     ]
    }
   ],
   "source": [
    "# Printing the News Paragraph\n",
    "\n",
    "news_p = soup.find(\"div\", class_=\"article_teaser_body\").text\n",
    "\n",
    "print(f'The News paragraph ---- : {news_p}')"
   ]
  },
  {
   "cell_type": "markdown",
   "id": "450947d8",
   "metadata": {},
   "source": [
    "# JPL Mars Space Images—Featured Image"
   ]
  },
  {
   "cell_type": "code",
   "execution_count": 9,
   "id": "7f1408c2",
   "metadata": {},
   "outputs": [],
   "source": [
    "# Setting featured image url\n",
    "link = \"https://spaceimages-mars.com\""
   ]
  },
  {
   "cell_type": "code",
   "execution_count": 10,
   "id": "b86cfe06",
   "metadata": {},
   "outputs": [],
   "source": [
    "# Sending http request to the server\n",
    "response = requests.get(link)\n",
    "browser.visit(link)"
   ]
  },
  {
   "cell_type": "code",
   "execution_count": 11,
   "id": "56eb8d0f",
   "metadata": {},
   "outputs": [
    {
     "data": {
      "text/plain": [
       "bs4.BeautifulSoup"
      ]
     },
     "execution_count": 11,
     "metadata": {},
     "output_type": "execute_result"
    }
   ],
   "source": [
    "# Creating Beautiful soup object\n",
    "html = browser.html\n",
    "soup = bs(html, 'html.parser')\n",
    "type(soup)"
   ]
  },
  {
   "cell_type": "code",
   "execution_count": null,
   "id": "608a2b33",
   "metadata": {},
   "outputs": [],
   "source": []
  }
 ],
 "metadata": {
  "kernelspec": {
   "display_name": "Python 3 (ipykernel)",
   "language": "python",
   "name": "python3"
  },
  "language_info": {
   "codemirror_mode": {
    "name": "ipython",
    "version": 3
   },
   "file_extension": ".py",
   "mimetype": "text/x-python",
   "name": "python",
   "nbconvert_exporter": "python",
   "pygments_lexer": "ipython3",
   "version": "3.9.12"
  }
 },
 "nbformat": 4,
 "nbformat_minor": 5
}
