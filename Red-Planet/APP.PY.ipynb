{
 "cells": [
  {
   "cell_type": "code",
   "execution_count": null,
   "id": "03b4a880",
   "metadata": {},
   "outputs": [],
   "source": [
    "from flask import Flask, render_template, redirect\n",
    "from flask_pymongo import PyMongo\n",
    "import scrape_mars\n",
    "import pymongo\n",
    "from pymongo import MongoClient"
   ]
  },
  {
   "cell_type": "code",
   "execution_count": 1,
   "id": "1b005c30",
   "metadata": {},
   "outputs": [
    {
     "ename": "NameError",
     "evalue": "name 'Flask' is not defined",
     "output_type": "error",
     "traceback": [
      "\u001b[0;31m---------------------------------------------------------------------------\u001b[0m",
      "\u001b[0;31mNameError\u001b[0m                                 Traceback (most recent call last)",
      "Input \u001b[0;32mIn [1]\u001b[0m, in \u001b[0;36m<cell line: 2>\u001b[0;34m()\u001b[0m\n\u001b[1;32m      1\u001b[0m \u001b[38;5;66;03m# Create an instance of Flask\u001b[39;00m\n\u001b[0;32m----> 2\u001b[0m app \u001b[38;5;241m=\u001b[39m \u001b[43mFlask\u001b[49m(\u001b[38;5;18m__name__\u001b[39m, template_folder\u001b[38;5;241m=\u001b[39m \u001b[38;5;124m'\u001b[39m\u001b[38;5;124mtemplates\u001b[39m\u001b[38;5;124m'\u001b[39m)\n\u001b[1;32m      5\u001b[0m \u001b[38;5;66;03m# Use PyMongo to establish Mongo connection\u001b[39;00m\n\u001b[1;32m      6\u001b[0m app\u001b[38;5;241m.\u001b[39mconfig[\u001b[38;5;124m\"\u001b[39m\u001b[38;5;124mMONGO_URI\u001b[39m\u001b[38;5;124m\"\u001b[39m] \u001b[38;5;241m=\u001b[39m \u001b[38;5;124m\"\u001b[39m\u001b[38;5;124mmongodb://localhost:27017/red_planet_db\u001b[39m\u001b[38;5;124m\"\u001b[39m\n",
      "\u001b[0;31mNameError\u001b[0m: name 'Flask' is not defined"
     ]
    }
   ],
   "source": [
    "\n",
    "# Create an instance of Flask\n",
    "app = Flask(__name__, template_folder= 'templates')\n",
    "\n",
    "\n",
    "# Use PyMongo to establish Mongo connection\n",
    "app.config[\"MONGO_URI\"] = \"mongodb://localhost:27017/red_planet_db\"\n",
    "mongo = PyMongo(app)\n",
    "\n",
    "\n",
    "# Route to render index.html template using data from Mongo\n",
    "@app.route(\"/\")\n",
    "def home():\n",
    "\n",
    "    # Find one record of data from the mongo database\n",
    "    redplanet = mongo.db.collection.find_one()\n",
    "\n",
    "    # Return template and data\n",
    "    return render_template(\"index.html\", redplanet = redplanet)\n",
    "\n",
    "\n",
    "# Route that will trigger the scrape function\n",
    "@app.route(\"/scrape\")\n",
    "def scrape():\n",
    "\n",
    "    # creating a redplanet database\n",
    "    redplanet = mongo.db.redplanet\n",
    "\n",
    "    # call the scrape function in our scrape_mars file. This will scrape and save to mongo.\n",
    "    redplanet_data = scrape_mars.scrape_mars()\n",
    "\n",
    "     # update our redplanet with the data that is being scraped.\n",
    "    redplanet.update({}, redplanet_data, upsert=True)\n",
    "\n",
    "  # return a message to our page so we know it was successful.   \n",
    "    return redirect(\"/\", code=302)\n",
    "\n",
    "if __name__ == \"__main__\":\n",
    "    app.run(debug=True)"
   ]
  }
 ],
 "metadata": {
  "kernelspec": {
   "display_name": "Python 3 (ipykernel)",
   "language": "python",
   "name": "python3"
  },
  "language_info": {
   "codemirror_mode": {
    "name": "ipython",
    "version": 3
   },
   "file_extension": ".py",
   "mimetype": "text/x-python",
   "name": "python",
   "nbconvert_exporter": "python",
   "pygments_lexer": "ipython3",
   "version": "3.9.12"
  }
 },
 "nbformat": 4,
 "nbformat_minor": 5
}
